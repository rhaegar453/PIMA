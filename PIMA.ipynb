{
 "cells": [
  {
   "cell_type": "markdown",
   "metadata": {},
   "source": [
    "# Deep Learning with Python"
   ]
  },
  {
   "cell_type": "markdown",
   "metadata": {},
   "source": [
    "# Activation Function\n",
    "\n",
    "The activation function is called so because it governs the threshold at which the neuron is activated.\n",
    "Step activation functions were used historically but they are very susciptible to noise, we hence prefer using sigmoid.\n",
    "Using non linear functions has the benefit that they are not susciptible to noise in the input signals. Some of the activation functions in use are \n",
    "- Sigmoid\n",
    "- Softmax\n",
    "- Tanh "
   ]
  },
  {
   "cell_type": "markdown",
   "metadata": {},
   "source": [
    "The network of neurons is called the Topology , also know as the network architecture. "
   ]
  },
  {
   "cell_type": "markdown",
   "metadata": {},
   "source": [
    "# Data preparation\n",
    "Data must be numerical. If we have data that is not numerical we can convert it into numerical by using a technique called one-hot encoding. One new column is added for each class of the category in such case"
   ]
  },
  {
   "cell_type": "markdown",
   "metadata": {},
   "source": [
    "# Working on PIMA DIABETES DATASET"
   ]
  },
  {
   "cell_type": "code",
   "execution_count": 16,
   "metadata": {},
   "outputs": [],
   "source": [
    "import pandas as pd\n",
    "import numpy as np\n",
    "from sklearn.model_selection import train_test_split"
   ]
  },
  {
   "cell_type": "code",
   "execution_count": 35,
   "metadata": {},
   "outputs": [],
   "source": [
    "dataset=pd.read_csv('./diabetes.csv')\n",
    "train=dataset.iloc[:, 0:8]\n",
    "test=dataset.iloc[:,8:9]"
   ]
  },
  {
   "cell_type": "markdown",
   "metadata": {},
   "source": [
    "# Get the dataset"
   ]
  },
  {
   "cell_type": "code",
   "execution_count": 38,
   "metadata": {},
   "outputs": [],
   "source": [
    "train_x, test_x, train_y, testY=train_test_split(train, test, test_size=0.25)"
   ]
  },
  {
   "cell_type": "markdown",
   "metadata": {},
   "source": [
    "# Importing keras libraries"
   ]
  },
  {
   "cell_type": "code",
   "execution_count": 39,
   "metadata": {},
   "outputs": [],
   "source": [
    "from keras.models import Sequential\n",
    "from keras.layers import Dense\n",
    "seed=7\n",
    "np.random.seed(seed=seed)"
   ]
  },
  {
   "cell_type": "markdown",
   "metadata": {},
   "source": [
    "# Define the models"
   ]
  },
  {
   "cell_type": "code",
   "execution_count": 40,
   "metadata": {},
   "outputs": [],
   "source": [
    "model=Sequential()  "
   ]
  },
  {
   "cell_type": "code",
   "execution_count": 50,
   "metadata": {},
   "outputs": [
    {
     "name": "stderr",
     "output_type": "stream",
     "text": [
      "/home/shivarajapple/anaconda3/lib/python3.6/site-packages/ipykernel_launcher.py:1: UserWarning: Update your `Dense` call to the Keras 2 API: `Dense(8, input_dim=8, activation=\"relu\", kernel_initializer=\"uniform\")`\n",
      "  \"\"\"Entry point for launching an IPython kernel.\n",
      "/home/shivarajapple/anaconda3/lib/python3.6/site-packages/ipykernel_launcher.py:2: UserWarning: Update your `Dense` call to the Keras 2 API: `Dense(8, activation=\"relu\", kernel_initializer=\"uniform\")`\n",
      "  \n",
      "/home/shivarajapple/anaconda3/lib/python3.6/site-packages/ipykernel_launcher.py:3: UserWarning: Update your `Dense` call to the Keras 2 API: `Dense(1, activation=\"sigmoid\", kernel_initializer=\"uniform\")`\n",
      "  This is separate from the ipykernel package so we can avoid doing imports until\n"
     ]
    }
   ],
   "source": [
    "model.add(Dense(8, input_dim=8, init='uniform', activation='relu'))\n",
    "model.add(Dense(8, init='uniform', activation='relu'))\n",
    "model.add(Dense(1, init='uniform', activation='sigmoid'))\n",
    "model.compile(loss='binary_crossentropy', optimizer='rmsprop', metrics=['accuracy'])"
   ]
  },
  {
   "cell_type": "markdown",
   "metadata": {},
   "source": [
    "# Fitting the Model on the dataset"
   ]
  },
  {
   "cell_type": "code",
   "execution_count": 51,
   "metadata": {},
   "outputs": [
    {
     "name": "stderr",
     "output_type": "stream",
     "text": [
      "/home/shivarajapple/anaconda3/lib/python3.6/site-packages/ipykernel_launcher.py:1: UserWarning: The `nb_epoch` argument in `fit` has been renamed `epochs`.\n",
      "  \"\"\"Entry point for launching an IPython kernel.\n"
     ]
    },
    {
     "name": "stdout",
     "output_type": "stream",
     "text": [
      "Epoch 1/150\n",
      "576/576 [==============================] - 1s 2ms/step - loss: 0.6887 - acc: 0.6441\n",
      "Epoch 2/150\n",
      "576/576 [==============================] - 0s 362us/step - loss: 0.6817 - acc: 0.6510\n",
      "Epoch 3/150\n",
      "576/576 [==============================] - 0s 283us/step - loss: 0.6744 - acc: 0.6510\n",
      "Epoch 4/150\n",
      "576/576 [==============================] - 0s 288us/step - loss: 0.6674 - acc: 0.6510\n",
      "Epoch 5/150\n",
      "576/576 [==============================] - 0s 324us/step - loss: 0.6614 - acc: 0.6510\n",
      "Epoch 6/150\n",
      "576/576 [==============================] - 0s 269us/step - loss: 0.6566 - acc: 0.6510\n",
      "Epoch 7/150\n",
      "576/576 [==============================] - 0s 277us/step - loss: 0.6531 - acc: 0.6510\n",
      "Epoch 8/150\n",
      "576/576 [==============================] - 0s 288us/step - loss: 0.6509 - acc: 0.6510\n",
      "Epoch 9/150\n",
      "576/576 [==============================] - 0s 278us/step - loss: 0.6494 - acc: 0.6510\n",
      "Epoch 10/150\n",
      "576/576 [==============================] - 0s 303us/step - loss: 0.6484 - acc: 0.6510\n",
      "Epoch 11/150\n",
      "576/576 [==============================] - 0s 287us/step - loss: 0.6478 - acc: 0.6510\n",
      "Epoch 12/150\n",
      "576/576 [==============================] - 0s 282us/step - loss: 0.6474 - acc: 0.6510\n",
      "Epoch 13/150\n",
      "576/576 [==============================] - 0s 326us/step - loss: 0.6473 - acc: 0.6510\n",
      "Epoch 14/150\n",
      "576/576 [==============================] - 0s 267us/step - loss: 0.6472 - acc: 0.6510\n",
      "Epoch 15/150\n",
      "576/576 [==============================] - 0s 292us/step - loss: 0.6470 - acc: 0.6510\n",
      "Epoch 16/150\n",
      "576/576 [==============================] - 0s 420us/step - loss: 0.6470 - acc: 0.6510\n",
      "Epoch 17/150\n",
      "576/576 [==============================] - 0s 373us/step - loss: 0.6470 - acc: 0.6510\n",
      "Epoch 18/150\n",
      "576/576 [==============================] - 0s 308us/step - loss: 0.6471 - acc: 0.6510\n",
      "Epoch 19/150\n",
      "576/576 [==============================] - 0s 365us/step - loss: 0.6471 - acc: 0.6510\n",
      "Epoch 20/150\n",
      "576/576 [==============================] - 0s 303us/step - loss: 0.6471 - acc: 0.6510\n",
      "Epoch 21/150\n",
      "576/576 [==============================] - 0s 312us/step - loss: 0.6470 - acc: 0.6510\n",
      "Epoch 22/150\n",
      "576/576 [==============================] - 0s 288us/step - loss: 0.6471 - acc: 0.6510\n",
      "Epoch 23/150\n",
      "576/576 [==============================] - 0s 315us/step - loss: 0.6470 - acc: 0.6510\n",
      "Epoch 24/150\n",
      "576/576 [==============================] - 0s 315us/step - loss: 0.6470 - acc: 0.6510\n",
      "Epoch 25/150\n",
      "576/576 [==============================] - 0s 291us/step - loss: 0.6471 - acc: 0.6510\n",
      "Epoch 26/150\n",
      "576/576 [==============================] - 0s 413us/step - loss: 0.6471 - acc: 0.6510\n",
      "Epoch 27/150\n",
      "576/576 [==============================] - 0s 268us/step - loss: 0.6471 - acc: 0.6510\n",
      "Epoch 28/150\n",
      "576/576 [==============================] - 0s 324us/step - loss: 0.6471 - acc: 0.6510\n",
      "Epoch 29/150\n",
      "576/576 [==============================] - 0s 284us/step - loss: 0.6471 - acc: 0.6510\n",
      "Epoch 30/150\n",
      "576/576 [==============================] - 0s 363us/step - loss: 0.6471 - acc: 0.6510\n",
      "Epoch 31/150\n",
      "576/576 [==============================] - 0s 264us/step - loss: 0.6471 - acc: 0.6510\n",
      "Epoch 32/150\n",
      "576/576 [==============================] - 0s 293us/step - loss: 0.6471 - acc: 0.6510\n",
      "Epoch 33/150\n",
      "576/576 [==============================] - 0s 328us/step - loss: 0.6470 - acc: 0.6510\n",
      "Epoch 34/150\n",
      "576/576 [==============================] - 0s 281us/step - loss: 0.6471 - acc: 0.6510\n",
      "Epoch 35/150\n",
      "576/576 [==============================] - 0s 317us/step - loss: 0.6469 - acc: 0.6510\n",
      "Epoch 36/150\n",
      "576/576 [==============================] - 0s 288us/step - loss: 0.6471 - acc: 0.6510\n",
      "Epoch 37/150\n",
      "576/576 [==============================] - 0s 279us/step - loss: 0.6471 - acc: 0.6510\n",
      "Epoch 38/150\n",
      "576/576 [==============================] - 0s 313us/step - loss: 0.6471 - acc: 0.6510\n",
      "Epoch 39/150\n",
      "576/576 [==============================] - 0s 294us/step - loss: 0.6471 - acc: 0.6510\n",
      "Epoch 40/150\n",
      "576/576 [==============================] - 0s 309us/step - loss: 0.6471 - acc: 0.6510\n",
      "Epoch 41/150\n",
      "576/576 [==============================] - 0s 321us/step - loss: 0.6471 - acc: 0.6510\n",
      "Epoch 42/150\n",
      "576/576 [==============================] - 0s 327us/step - loss: 0.6471 - acc: 0.6510\n",
      "Epoch 43/150\n",
      "576/576 [==============================] - 0s 250us/step - loss: 0.6471 - acc: 0.6510\n",
      "Epoch 44/150\n",
      "576/576 [==============================] - 0s 281us/step - loss: 0.6470 - acc: 0.6510\n",
      "Epoch 45/150\n",
      "576/576 [==============================] - 0s 300us/step - loss: 0.6471 - acc: 0.6510\n",
      "Epoch 46/150\n",
      "576/576 [==============================] - 0s 295us/step - loss: 0.6470 - acc: 0.6510\n",
      "Epoch 47/150\n",
      "576/576 [==============================] - 0s 320us/step - loss: 0.6471 - acc: 0.6510\n",
      "Epoch 48/150\n",
      "576/576 [==============================] - 0s 279us/step - loss: 0.6470 - acc: 0.6510\n",
      "Epoch 49/150\n",
      "576/576 [==============================] - 0s 313us/step - loss: 0.6471 - acc: 0.6510\n",
      "Epoch 50/150\n",
      "576/576 [==============================] - 0s 306us/step - loss: 0.6469 - acc: 0.6510\n",
      "Epoch 51/150\n",
      "576/576 [==============================] - 0s 334us/step - loss: 0.6471 - acc: 0.6510\n",
      "Epoch 52/150\n",
      "576/576 [==============================] - 0s 276us/step - loss: 0.6471 - acc: 0.6510\n",
      "Epoch 53/150\n",
      "576/576 [==============================] - 0s 316us/step - loss: 0.6470 - acc: 0.6510\n",
      "Epoch 54/150\n",
      "576/576 [==============================] - 0s 299us/step - loss: 0.6470 - acc: 0.6510\n",
      "Epoch 55/150\n",
      "576/576 [==============================] - 0s 296us/step - loss: 0.6471 - acc: 0.6510\n",
      "Epoch 56/150\n",
      "576/576 [==============================] - 0s 344us/step - loss: 0.6471 - acc: 0.6510\n",
      "Epoch 57/150\n",
      "576/576 [==============================] - 0s 368us/step - loss: 0.6471 - acc: 0.6510\n",
      "Epoch 58/150\n",
      "576/576 [==============================] - 0s 324us/step - loss: 0.6471 - acc: 0.6510\n",
      "Epoch 59/150\n",
      "576/576 [==============================] - 0s 390us/step - loss: 0.6471 - acc: 0.6510\n",
      "Epoch 60/150\n",
      "576/576 [==============================] - 0s 367us/step - loss: 0.6471 - acc: 0.6510\n",
      "Epoch 61/150\n",
      "576/576 [==============================] - 0s 347us/step - loss: 0.6471 - acc: 0.6510\n",
      "Epoch 62/150\n",
      "576/576 [==============================] - 0s 294us/step - loss: 0.6471 - acc: 0.6510\n",
      "Epoch 63/150\n",
      "576/576 [==============================] - 0s 369us/step - loss: 0.6470 - acc: 0.6510\n",
      "Epoch 64/150\n",
      "576/576 [==============================] - 0s 315us/step - loss: 0.6471 - acc: 0.6510\n",
      "Epoch 65/150\n",
      "576/576 [==============================] - 0s 304us/step - loss: 0.6471 - acc: 0.6510\n",
      "Epoch 66/150\n",
      "576/576 [==============================] - 0s 310us/step - loss: 0.6470 - acc: 0.6510\n",
      "Epoch 67/150\n",
      "576/576 [==============================] - 0s 315us/step - loss: 0.6470 - acc: 0.6510\n",
      "Epoch 68/150\n",
      "576/576 [==============================] - 0s 381us/step - loss: 0.6471 - acc: 0.6510\n",
      "Epoch 69/150\n",
      "576/576 [==============================] - 0s 336us/step - loss: 0.6470 - acc: 0.6510\n",
      "Epoch 70/150\n",
      "576/576 [==============================] - 0s 292us/step - loss: 0.6470 - acc: 0.6510\n",
      "Epoch 71/150\n",
      "576/576 [==============================] - 0s 320us/step - loss: 0.6471 - acc: 0.6510\n",
      "Epoch 72/150\n",
      "576/576 [==============================] - 0s 285us/step - loss: 0.6471 - acc: 0.6510\n",
      "Epoch 73/150\n",
      "576/576 [==============================] - 0s 390us/step - loss: 0.6470 - acc: 0.6510\n",
      "Epoch 74/150\n",
      "576/576 [==============================] - 0s 313us/step - loss: 0.6471 - acc: 0.6510\n",
      "Epoch 75/150\n",
      "576/576 [==============================] - 0s 315us/step - loss: 0.6471 - acc: 0.6510\n",
      "Epoch 76/150\n",
      "576/576 [==============================] - 0s 285us/step - loss: 0.6471 - acc: 0.6510\n",
      "Epoch 77/150\n",
      "576/576 [==============================] - 0s 439us/step - loss: 0.6470 - acc: 0.6510\n",
      "Epoch 78/150\n",
      "576/576 [==============================] - 0s 276us/step - loss: 0.6471 - acc: 0.6510\n",
      "Epoch 79/150\n",
      "576/576 [==============================] - 0s 351us/step - loss: 0.6470 - acc: 0.6510\n",
      "Epoch 80/150\n",
      "576/576 [==============================] - 0s 329us/step - loss: 0.6471 - acc: 0.6510\n",
      "Epoch 81/150\n",
      "576/576 [==============================] - 0s 315us/step - loss: 0.6470 - acc: 0.6510\n",
      "Epoch 82/150\n",
      "576/576 [==============================] - 0s 350us/step - loss: 0.6471 - acc: 0.6510\n",
      "Epoch 83/150\n"
     ]
    },
    {
     "name": "stdout",
     "output_type": "stream",
     "text": [
      "576/576 [==============================] - 0s 346us/step - loss: 0.6470 - acc: 0.6510\n",
      "Epoch 84/150\n",
      "576/576 [==============================] - 0s 290us/step - loss: 0.6471 - acc: 0.6510\n",
      "Epoch 85/150\n",
      "576/576 [==============================] - 0s 289us/step - loss: 0.6471 - acc: 0.6510\n",
      "Epoch 86/150\n",
      "576/576 [==============================] - 0s 287us/step - loss: 0.6471 - acc: 0.6510\n",
      "Epoch 87/150\n",
      "576/576 [==============================] - 0s 324us/step - loss: 0.6472 - acc: 0.6510\n",
      "Epoch 88/150\n",
      "576/576 [==============================] - 0s 299us/step - loss: 0.6471 - acc: 0.6510\n",
      "Epoch 89/150\n",
      "576/576 [==============================] - 0s 279us/step - loss: 0.6472 - acc: 0.6510\n",
      "Epoch 90/150\n",
      "576/576 [==============================] - 0s 371us/step - loss: 0.6471 - acc: 0.6510\n",
      "Epoch 91/150\n",
      "576/576 [==============================] - 0s 318us/step - loss: 0.6471 - acc: 0.6510\n",
      "Epoch 92/150\n",
      "576/576 [==============================] - 0s 305us/step - loss: 0.6471 - acc: 0.6510\n",
      "Epoch 93/150\n",
      "576/576 [==============================] - 0s 327us/step - loss: 0.6472 - acc: 0.6510\n",
      "Epoch 94/150\n",
      "576/576 [==============================] - 0s 338us/step - loss: 0.6471 - acc: 0.6510\n",
      "Epoch 95/150\n",
      "576/576 [==============================] - 0s 312us/step - loss: 0.6470 - acc: 0.6510\n",
      "Epoch 96/150\n",
      "576/576 [==============================] - 0s 381us/step - loss: 0.6470 - acc: 0.6510\n",
      "Epoch 97/150\n",
      "576/576 [==============================] - 0s 289us/step - loss: 0.6471 - acc: 0.6510\n",
      "Epoch 98/150\n",
      "576/576 [==============================] - 0s 333us/step - loss: 0.6470 - acc: 0.6510\n",
      "Epoch 99/150\n",
      "576/576 [==============================] - 0s 352us/step - loss: 0.6472 - acc: 0.6510\n",
      "Epoch 100/150\n",
      "576/576 [==============================] - 0s 375us/step - loss: 0.6470 - acc: 0.6510\n",
      "Epoch 101/150\n",
      "576/576 [==============================] - 0s 269us/step - loss: 0.6471 - acc: 0.6510\n",
      "Epoch 102/150\n",
      "576/576 [==============================] - 0s 331us/step - loss: 0.6470 - acc: 0.6510\n",
      "Epoch 103/150\n",
      "576/576 [==============================] - 0s 320us/step - loss: 0.6471 - acc: 0.6510\n",
      "Epoch 104/150\n",
      "576/576 [==============================] - 0s 294us/step - loss: 0.6472 - acc: 0.6510\n",
      "Epoch 105/150\n",
      "576/576 [==============================] - 0s 365us/step - loss: 0.6471 - acc: 0.6510\n",
      "Epoch 106/150\n",
      "576/576 [==============================] - 0s 300us/step - loss: 0.6471 - acc: 0.6510\n",
      "Epoch 107/150\n",
      "576/576 [==============================] - 0s 690us/step - loss: 0.6471 - acc: 0.6510\n",
      "Epoch 108/150\n",
      "576/576 [==============================] - 0s 353us/step - loss: 0.6471 - acc: 0.6510\n",
      "Epoch 109/150\n",
      "576/576 [==============================] - 0s 325us/step - loss: 0.6471 - acc: 0.6510\n",
      "Epoch 110/150\n",
      "576/576 [==============================] - 0s 342us/step - loss: 0.6471 - acc: 0.6510\n",
      "Epoch 111/150\n",
      "576/576 [==============================] - 0s 309us/step - loss: 0.6470 - acc: 0.6510\n",
      "Epoch 112/150\n",
      "576/576 [==============================] - 0s 329us/step - loss: 0.6471 - acc: 0.6510\n",
      "Epoch 113/150\n",
      "576/576 [==============================] - 0s 293us/step - loss: 0.6470 - acc: 0.6510\n",
      "Epoch 114/150\n",
      "576/576 [==============================] - 0s 292us/step - loss: 0.6471 - acc: 0.6510\n",
      "Epoch 115/150\n",
      "576/576 [==============================] - 0s 297us/step - loss: 0.6470 - acc: 0.6510\n",
      "Epoch 116/150\n",
      "576/576 [==============================] - 0s 330us/step - loss: 0.6471 - acc: 0.6510\n",
      "Epoch 117/150\n",
      "576/576 [==============================] - 0s 271us/step - loss: 0.6471 - acc: 0.6510\n",
      "Epoch 118/150\n",
      "576/576 [==============================] - 0s 336us/step - loss: 0.6470 - acc: 0.6510\n",
      "Epoch 119/150\n",
      "576/576 [==============================] - 0s 298us/step - loss: 0.6470 - acc: 0.6510\n",
      "Epoch 120/150\n",
      "576/576 [==============================] - 0s 259us/step - loss: 0.6471 - acc: 0.6510\n",
      "Epoch 121/150\n",
      "576/576 [==============================] - 0s 461us/step - loss: 0.6471 - acc: 0.6510\n",
      "Epoch 122/150\n",
      "576/576 [==============================] - 0s 381us/step - loss: 0.6470 - acc: 0.6510\n",
      "Epoch 123/150\n",
      "576/576 [==============================] - 0s 330us/step - loss: 0.6471 - acc: 0.6510\n",
      "Epoch 124/150\n",
      "576/576 [==============================] - 0s 529us/step - loss: 0.6471 - acc: 0.6510\n",
      "Epoch 125/150\n",
      "576/576 [==============================] - 0s 305us/step - loss: 0.6471 - acc: 0.6510\n",
      "Epoch 126/150\n",
      "576/576 [==============================] - 0s 326us/step - loss: 0.6470 - acc: 0.6510\n",
      "Epoch 127/150\n",
      "576/576 [==============================] - 0s 305us/step - loss: 0.6470 - acc: 0.6510\n",
      "Epoch 128/150\n",
      "576/576 [==============================] - 0s 265us/step - loss: 0.6471 - acc: 0.6510\n",
      "Epoch 129/150\n",
      "576/576 [==============================] - 0s 322us/step - loss: 0.6471 - acc: 0.6510\n",
      "Epoch 130/150\n",
      "576/576 [==============================] - 0s 303us/step - loss: 0.6468 - acc: 0.6510\n",
      "Epoch 131/150\n",
      "576/576 [==============================] - 0s 310us/step - loss: 0.6470 - acc: 0.6510\n",
      "Epoch 132/150\n",
      "576/576 [==============================] - 0s 290us/step - loss: 0.6471 - acc: 0.6510\n",
      "Epoch 133/150\n",
      "576/576 [==============================] - 0s 431us/step - loss: 0.6471 - acc: 0.6510\n",
      "Epoch 134/150\n",
      "576/576 [==============================] - 0s 334us/step - loss: 0.6470 - acc: 0.6510\n",
      "Epoch 135/150\n",
      "576/576 [==============================] - 0s 375us/step - loss: 0.6471 - acc: 0.6510\n",
      "Epoch 136/150\n",
      "576/576 [==============================] - 0s 292us/step - loss: 0.6471 - acc: 0.6510\n",
      "Epoch 137/150\n",
      "576/576 [==============================] - 0s 325us/step - loss: 0.6471 - acc: 0.6510\n",
      "Epoch 138/150\n",
      "576/576 [==============================] - 0s 368us/step - loss: 0.6471 - acc: 0.6510\n",
      "Epoch 139/150\n",
      "576/576 [==============================] - 0s 434us/step - loss: 0.6471 - acc: 0.6510\n",
      "Epoch 140/150\n",
      "576/576 [==============================] - 0s 277us/step - loss: 0.6470 - acc: 0.6510\n",
      "Epoch 141/150\n",
      "576/576 [==============================] - 0s 341us/step - loss: 0.6472 - acc: 0.6510\n",
      "Epoch 142/150\n",
      "576/576 [==============================] - 0s 338us/step - loss: 0.6471 - acc: 0.6510\n",
      "Epoch 143/150\n",
      "576/576 [==============================] - 0s 314us/step - loss: 0.6470 - acc: 0.6510\n",
      "Epoch 144/150\n",
      "576/576 [==============================] - 0s 335us/step - loss: 0.6471 - acc: 0.6510\n",
      "Epoch 145/150\n",
      "576/576 [==============================] - 0s 315us/step - loss: 0.6471 - acc: 0.6510\n",
      "Epoch 146/150\n",
      "576/576 [==============================] - 0s 318us/step - loss: 0.6471 - acc: 0.6510\n",
      "Epoch 147/150\n",
      "576/576 [==============================] - 0s 355us/step - loss: 0.6471 - acc: 0.6510\n",
      "Epoch 148/150\n",
      "576/576 [==============================] - 0s 324us/step - loss: 0.6471 - acc: 0.6510\n",
      "Epoch 149/150\n",
      "576/576 [==============================] - 0s 376us/step - loss: 0.6471 - acc: 0.6510\n",
      "Epoch 150/150\n",
      "576/576 [==============================] - 0s 345us/step - loss: 0.6470 - acc: 0.6510\n"
     ]
    },
    {
     "data": {
      "text/plain": [
       "<keras.callbacks.History at 0x7f4906c0a198>"
      ]
     },
     "execution_count": 51,
     "metadata": {},
     "output_type": "execute_result"
    }
   ],
   "source": [
    "model.fit(train_x, train_y, nb_epoch=150, batch_size=10)"
   ]
  },
  {
   "cell_type": "code",
   "execution_count": 52,
   "metadata": {},
   "outputs": [
    {
     "name": "stdout",
     "output_type": "stream",
     "text": [
      "192/192 [==============================] - 0s 2ms/step\n"
     ]
    }
   ],
   "source": [
    "scores=model.evaluate(test_x, testY)"
   ]
  },
  {
   "cell_type": "markdown",
   "metadata": {},
   "source": [
    "# Evaluation Results"
   ]
  },
  {
   "cell_type": "code",
   "execution_count": 55,
   "metadata": {},
   "outputs": [
    {
     "name": "stdout",
     "output_type": "stream",
     "text": [
      "acc :  65.104167%\n"
     ]
    }
   ],
   "source": [
    "print('%s : % 2f%%' %(model.metrics_names[1], scores[1]*100))"
   ]
  },
  {
   "cell_type": "code",
   "execution_count": null,
   "metadata": {},
   "outputs": [],
   "source": []
  }
 ],
 "metadata": {
  "kernelspec": {
   "display_name": "Python 3",
   "language": "python",
   "name": "python3"
  },
  "language_info": {
   "codemirror_mode": {
    "name": "ipython",
    "version": 3
   },
   "file_extension": ".py",
   "mimetype": "text/x-python",
   "name": "python",
   "nbconvert_exporter": "python",
   "pygments_lexer": "ipython3",
   "version": "3.6.5"
  }
 },
 "nbformat": 4,
 "nbformat_minor": 2
}
